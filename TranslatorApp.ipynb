{
 "cells": [
  {
   "cell_type": "code",
   "execution_count": 1,
   "id": "3a8abff7",
   "metadata": {},
   "outputs": [],
   "source": [
    "from tkinter import *\n",
    "from IPython import display\n",
    "from PIL import Image, ImageTk\n",
    "from tkinter import ttk, Tk, Label, Button, OptionMenu, Listbox, Frame\n",
    "from googletrans import Translator, LANGUAGES # API for acdecsing google translate\n"
   ]
  },
  {
   "cell_type": "code",
   "execution_count": 2,
   "id": "cbebfaf7",
   "metadata": {},
   "outputs": [],
   "source": [
    "root = Tk() # Creates the main window of your application.\n",
    "root.geometry(\"1300x800\") # size of screen by pixels by x and y \n",
    "\n",
    "# Prevents the user from resizing the window. The arguments (0,0) indicate that the window cannot be resized horizontally or vertically.\n",
    "root.resizable(0,0)\n",
    "\n",
    "root[\"bg\"] = \"white\" # background colour \n",
    "\n",
    "\n",
    "root.title(\"Free Language Translator by J-Sheeran!\")#adds link top title  \n",
    "\n",
    "# adds a label (the top one when run)\n",
    "title_label = Label(root, text=\"Language Translator\", font=\"Arial 40 bold\", bg=\"white\", fg=\"black\")\n",
    "title_label.pack(pady=20)\n",
    "\n"
   ]
  },
  {
   "cell_type": "code",
   "execution_count": 3,
   "id": "84f8c4f3",
   "metadata": {},
   "outputs": [],
   "source": [
    "input_label = Label(root, text=\"Enter Text:\", font=\"Arial 15 bold\", bg=\"white\", fg=\"black\")\n",
    "input_label.place(x=50, y=100)\n"
   ]
  },
  {
   "cell_type": "code",
   "execution_count": 4,
   "id": "35324a0a",
   "metadata": {},
   "outputs": [],
   "source": [
    "Input_text = Entry(root, width=140, font=\"Arial 12\")\n",
    "Input_text.place(x=200, y=105)\n"
   ]
  },
  {
   "cell_type": "code",
   "execution_count": 5,
   "id": "0dc15934",
   "metadata": {},
   "outputs": [],
   "source": [
    "def Translate():\n",
    "    translator = Translator()\n",
    "    translated = translator.translate(text=Input_text.get(), dest=dest_lang.get()) \n",
    "    Output_text.delete(1.0, END)\n",
    "    Output_text.insert(END, translated.text)\n",
    "\n",
    "output_label = Label(root, text=\"Output:\", font=\"Arial 15 bold\", bg=\"white\", fg=\"black\")\n",
    "output_label.place(x=50, y=150)\n",
    "\n",
    "Output_text = Text(root, font=\"Arial 12\", height=8, width=140)\n",
    "Output_text.place(x=200, y=155)\n",
    "\n",
    "language_label = Label(root, text=\"Choose Language:\", font=\"Arial 15 bold\", bg=\"white\", fg=\"black\")\n",
    "language_label.place(x=50, y=350)\n",
    "\n",
    "language_list = list(LANGUAGES.values())\n",
    "\n",
    "dest_lang = ttk.Combobox(root, values=language_list, width=20, font=\"Arial 12\")\n",
    "dest_lang.place(x=250, y=355)\n",
    "dest_lang.set(\"English\")\n",
    "\n",
    "trans_btn = Button(root, text=\"Translate\", font=\"Arial 12 bold\", pady=5, command=Translate, bg=\"orange\", activebackground=\"green\")\n",
    "trans_btn.place(x=520, y=350)\n",
    "\n"
   ]
  },
  {
   "cell_type": "code",
   "execution_count": null,
   "id": "3ec66924",
   "metadata": {},
   "outputs": [
    {
     "name": "stderr",
     "output_type": "stream",
     "text": [
      "/var/folders/c1/3zvnx4hd2nzd93_lkpt7v22m0000gn/T/ipykernel_15211/267613707.py:6: DeprecationWarning: ANTIALIAS is deprecated and will be removed in Pillow 10 (2023-07-01). Use LANCZOS or Resampling.LANCZOS instead.\n",
      "  image = image.resize((width, height), Image.ANTIALIAS)\n"
     ]
    }
   ],
   "source": [
    "# Load the image file\n",
    "image = Image.open(\"world.png\")\n",
    "\n",
    "# Resize the image to the desired dimensions\n",
    "width, height = 400, 350  # Adjust as needed\n",
    "image = image.resize((width, height), Image.ANTIALIAS)\n",
    "\n",
    "# Convert the resized image to a PhotoImage object\n",
    "photo = ImageTk.PhotoImage(image)\n",
    "\n",
    "# Create a label to display the image\n",
    "label = Label(root, image=photo)\n",
    "\n",
    "# Set the position and size of the label\n",
    "x_pos, y_pos = 400, 450  # Adjust the position as needed\n",
    "label.place(x=x_pos, y=y_pos)\n",
    "\n",
    "# Start the event loop\n",
    "root.mainloop()"
   ]
  }
 ],
 "metadata": {
  "kernelspec": {
   "display_name": "Python 3 (ipykernel)",
   "language": "python",
   "name": "python3"
  },
  "language_info": {
   "codemirror_mode": {
    "name": "ipython",
    "version": 3
   },
   "file_extension": ".py",
   "mimetype": "text/x-python",
   "name": "python",
   "nbconvert_exporter": "python",
   "pygments_lexer": "ipython3",
   "version": "3.11.5"
  }
 },
 "nbformat": 4,
 "nbformat_minor": 5
}
